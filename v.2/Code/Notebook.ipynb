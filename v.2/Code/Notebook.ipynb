{
 "cells": [
  {
   "cell_type": "markdown",
   "metadata": {},
   "source": [
    "# **Entrega 2: Sistema de recomendación de música.**\n",
    "\n",
    "**Curso: 09481 - Inteligencia Artificial.**\n",
    "\n",
    "**Universidad ICESI.**\n",
    "\n",
    "**Profesor: Breyner Posso.**\n",
    "\n",
    "**Integrantes: Daniela Olarte Borja, Carlos Jimmy Pantoja, Juan Esteban Caicedo y Carlos Andres Tafurt.**"
   ]
  },
  {
   "cell_type": "markdown",
   "metadata": {},
   "source": [
    "En esta entrega vamos a aplicar el algoritmo de agrupación k-means y se construirá el sistema de recomendación de música."
   ]
  },
  {
   "cell_type": "markdown",
   "metadata": {},
   "source": [
    "# Parte 1."
   ]
  },
  {
   "cell_type": "markdown",
   "metadata": {},
   "source": [
    "# 0. Importar Librerías"
   ]
  },
  {
   "cell_type": "code",
   "execution_count": null,
   "metadata": {},
   "outputs": [],
   "source": [
    "import re                                                       #Expresiones regulares.\n",
    "import itertools                                                #Herramientas de iteración.\n",
    "import numpy as np                                              #Matemática y manejo de arreglos.\n",
    "import pandas as pd                                             #Manejo de datasets.\n",
    "import warnings as wrg                                          #Control de advertencias.\n",
    "\n",
    "from copy import deepcopy                                       #Copias profundas de DataFrames.\n",
    "\n",
    "from collections import defaultdict                             #Construcción de un diccionario.\n",
    "\n",
    "from sklearn.cluster import KMeans                              #Agrupamiento de datos.\n",
    "from sklearn.preprocessing import MinMaxScaler                  #Normalización de datos.\n",
    "from sklearn.feature_extraction.text import TfidfVectorizer     #Vectorizador de información a partir de su ocurrencia.\n",
    "\n",
    "from scipy.spatial.distance import cdist                        #Cálcula la distancia entre dos vectores."
   ]
  },
  {
   "cell_type": "code",
   "execution_count": 2,
   "metadata": {},
   "outputs": [],
   "source": [
    "#Se ignoran las advertencias.\n",
    "wrg.filterwarnings(\"ignore\")"
   ]
  },
  {
   "cell_type": "markdown",
   "metadata": {},
   "source": [
    "# 1. Cargar Datos"
   ]
  },
  {
   "cell_type": "code",
   "execution_count": 3,
   "metadata": {},
   "outputs": [],
   "source": [
    "#Dataset a nivel de canciones, contiene toda su información.\n",
    "data = pd.read_csv('data.csv')\n",
    "#Dataset a nivel de artistas, contiene toda su información.\n",
    "data_w_genres = pd.read_csv('data_w_genres.csv')"
   ]
  },
  {
   "cell_type": "markdown",
   "metadata": {},
   "source": [
    "# 2. Análisis Exploratorio de los Datos."
   ]
  },
  {
   "cell_type": "markdown",
   "metadata": {},
   "source": [
    "Convertimos los artistas de una canción en una lista"
   ]
  },
  {
   "cell_type": "code",
   "execution_count": 8,
   "metadata": {},
   "outputs": [
    {
     "data": {
      "text/plain": [
       "\"['Sergei Rachmaninoff', 'James Levine', 'Berliner Philharmoniker']\""
      ]
     },
     "execution_count": 8,
     "metadata": {},
     "output_type": "execute_result"
    }
   ],
   "source": [
    "data.artists[0]"
   ]
  },
  {
   "cell_type": "code",
   "execution_count": 9,
   "metadata": {},
   "outputs": [
    {
     "data": {
      "text/plain": [
       "'['"
      ]
     },
     "execution_count": 9,
     "metadata": {},
     "output_type": "execute_result"
    }
   ],
   "source": [
    "data.artists[0][0]"
   ]
  },
  {
   "cell_type": "code",
   "execution_count": 10,
   "metadata": {},
   "outputs": [],
   "source": [
    "#Función lambda que hace el cambio de str a list.\n",
    "data.artists = data.artists.apply(lambda x: [i.strip() for i in re.sub('[\\]\\[\"\\']', '', x).split(',')])"
   ]
  },
  {
   "cell_type": "code",
   "execution_count": 11,
   "metadata": {},
   "outputs": [
    {
     "data": {
      "text/plain": [
       "'Sergei Rachmaninoff'"
      ]
     },
     "execution_count": 11,
     "metadata": {},
     "output_type": "execute_result"
    }
   ],
   "source": [
    "data.artists[0][0]"
   ]
  },
  {
   "cell_type": "markdown",
   "metadata": {},
   "source": [
    "De igual manera quitamos carácteres especiales de los nombres de los artistas en data_w_genre"
   ]
  },
  {
   "cell_type": "code",
   "execution_count": 12,
   "metadata": {},
   "outputs": [
    {
     "data": {
      "text/plain": [
       "'\"Cats\" 1981 Original London Cast'"
      ]
     },
     "execution_count": 12,
     "metadata": {},
     "output_type": "execute_result"
    }
   ],
   "source": [
    "data_w_genres.artists[0]"
   ]
  },
  {
   "cell_type": "code",
   "execution_count": 13,
   "metadata": {},
   "outputs": [],
   "source": [
    "#Función lambda que elimina los carácteres especiales.\n",
    "data_w_genres.artists = data_w_genres.artists.apply(lambda x: re.sub('[\\]\\[\"\\']', '', x).strip())"
   ]
  },
  {
   "cell_type": "code",
   "execution_count": 14,
   "metadata": {},
   "outputs": [
    {
     "data": {
      "text/plain": [
       "'Cats 1981 Original London Cast'"
      ]
     },
     "execution_count": 14,
     "metadata": {},
     "output_type": "execute_result"
    }
   ],
   "source": [
    "data_w_genres.artists[0]"
   ]
  },
  {
   "cell_type": "markdown",
   "metadata": {},
   "source": [
    "Convertimos los generos de un artista a una lista"
   ]
  },
  {
   "cell_type": "code",
   "execution_count": 15,
   "metadata": {},
   "outputs": [
    {
     "data": {
      "text/plain": [
       "'[\"canadian children\\'s music\", \\'cartoon\\', \"children\\'s music\", \\'musique pour enfant quebecois\\']'"
      ]
     },
     "execution_count": 15,
     "metadata": {},
     "output_type": "execute_result"
    }
   ],
   "source": [
    "data_w_genres.genres[3717]"
   ]
  },
  {
   "cell_type": "code",
   "execution_count": 16,
   "metadata": {},
   "outputs": [
    {
     "data": {
      "text/plain": [
       "'['"
      ]
     },
     "execution_count": 16,
     "metadata": {},
     "output_type": "execute_result"
    }
   ],
   "source": [
    "data_w_genres.genres[3717][0]"
   ]
  },
  {
   "cell_type": "code",
   "execution_count": 17,
   "metadata": {},
   "outputs": [],
   "source": [
    "#Función lambda que hace el cambio de str a list.\n",
    "data_w_genres.genres = data_w_genres.genres.apply(lambda x: [re.sub(' ','_',i.strip()) for i in re.sub('[\\]\\[\"\\']', '', x).split(',')])"
   ]
  },
  {
   "cell_type": "code",
   "execution_count": 18,
   "metadata": {},
   "outputs": [
    {
     "data": {
      "text/plain": [
       "'canadian_childrens_music'"
      ]
     },
     "execution_count": 18,
     "metadata": {},
     "output_type": "execute_result"
    }
   ],
   "source": [
    "data_w_genres.genres[3717][0]"
   ]
  },
  {
   "cell_type": "markdown",
   "metadata": {},
   "source": [
    "Vamos a encontrar los generos de cada canción a partir de sus artistas"
   ]
  },
  {
   "cell_type": "code",
   "execution_count": 19,
   "metadata": {},
   "outputs": [],
   "source": [
    "#Se genera una fila por cada artista con el id de la canción.\n",
    "artists_exploded = data[['artists','id']].explode('artists')"
   ]
  },
  {
   "cell_type": "code",
   "execution_count": 20,
   "metadata": {},
   "outputs": [],
   "source": [
    "#Se añade por medio de los artistas toda la información de los mismos.\n",
    "artists_exploded_enriched = artists_exploded.merge(data_w_genres, how = 'left', left_on = 'artists', right_on = 'artists')\n",
    "#Se eliminan generos nulos\n",
    "artists_exploded_enriched_nonnull = artists_exploded_enriched[~artists_exploded_enriched.genres.isnull()]"
   ]
  },
  {
   "cell_type": "code",
   "execution_count": 21,
   "metadata": {},
   "outputs": [],
   "source": [
    "#Se agrupa por el id de la canción y los generos del artista para tener una lista de generos por cada id de una canción.\n",
    "artists_genres_consolidated = artists_exploded_enriched_nonnull.groupby('id')['genres'].apply(list).reset_index()"
   ]
  },
  {
   "cell_type": "code",
   "execution_count": 22,
   "metadata": {},
   "outputs": [],
   "source": [
    "#Se eliminan los generos repetidos de cada lista.\n",
    "artists_genres_consolidated['genres'] = artists_genres_consolidated['genres'].apply(lambda x: list(set(list(itertools.chain.from_iterable(x)))))"
   ]
  },
  {
   "cell_type": "code",
   "execution_count": 23,
   "metadata": {},
   "outputs": [],
   "source": [
    "#Se añade al dataset principal la columna genres que contiene la lista de generos de cada canción.\n",
    "data = data.merge(artists_genres_consolidated[['id','genres']], on = 'id',how = 'left')"
   ]
  },
  {
   "cell_type": "code",
   "execution_count": 24,
   "metadata": {},
   "outputs": [],
   "source": [
    "#Se reemplazan posibles listas de generos nulas por listas vacias.\n",
    "data.genres = data.genres.apply(lambda x: [] if x is np.nan else x)"
   ]
  },
  {
   "cell_type": "code",
   "execution_count": 25,
   "metadata": {},
   "outputs": [
    {
     "data": {
      "text/html": [
       "<div>\n",
       "<style scoped>\n",
       "    .dataframe tbody tr th:only-of-type {\n",
       "        vertical-align: middle;\n",
       "    }\n",
       "\n",
       "    .dataframe tbody tr th {\n",
       "        vertical-align: top;\n",
       "    }\n",
       "\n",
       "    .dataframe thead th {\n",
       "        text-align: right;\n",
       "    }\n",
       "</style>\n",
       "<table border=\"1\" class=\"dataframe\">\n",
       "  <thead>\n",
       "    <tr style=\"text-align: right;\">\n",
       "      <th></th>\n",
       "      <th>valence</th>\n",
       "      <th>year</th>\n",
       "      <th>acousticness</th>\n",
       "      <th>artists</th>\n",
       "      <th>danceability</th>\n",
       "      <th>duration_ms</th>\n",
       "      <th>energy</th>\n",
       "      <th>explicit</th>\n",
       "      <th>id</th>\n",
       "      <th>instrumentalness</th>\n",
       "      <th>key</th>\n",
       "      <th>liveness</th>\n",
       "      <th>loudness</th>\n",
       "      <th>mode</th>\n",
       "      <th>name</th>\n",
       "      <th>popularity</th>\n",
       "      <th>release_date</th>\n",
       "      <th>speechiness</th>\n",
       "      <th>tempo</th>\n",
       "      <th>genres</th>\n",
       "    </tr>\n",
       "  </thead>\n",
       "  <tbody>\n",
       "    <tr>\n",
       "      <th>0</th>\n",
       "      <td>0.0594</td>\n",
       "      <td>1921</td>\n",
       "      <td>0.982</td>\n",
       "      <td>[Sergei Rachmaninoff, James Levine, Berliner P...</td>\n",
       "      <td>0.279</td>\n",
       "      <td>831667</td>\n",
       "      <td>0.211</td>\n",
       "      <td>0</td>\n",
       "      <td>4BJqT0PrAfrxzMOxytFOIz</td>\n",
       "      <td>0.878000</td>\n",
       "      <td>10</td>\n",
       "      <td>0.665</td>\n",
       "      <td>-20.096</td>\n",
       "      <td>1</td>\n",
       "      <td>Piano Concerto No. 3 in D Minor, Op. 30: III. ...</td>\n",
       "      <td>4</td>\n",
       "      <td>1921</td>\n",
       "      <td>0.0366</td>\n",
       "      <td>80.954</td>\n",
       "      <td>[classical, ukrainian_classical, orchestral_pe...</td>\n",
       "    </tr>\n",
       "    <tr>\n",
       "      <th>1</th>\n",
       "      <td>0.9630</td>\n",
       "      <td>1921</td>\n",
       "      <td>0.732</td>\n",
       "      <td>[Dennis Day]</td>\n",
       "      <td>0.819</td>\n",
       "      <td>180533</td>\n",
       "      <td>0.341</td>\n",
       "      <td>0</td>\n",
       "      <td>7xPhfUan2yNtyFG0cUWkt8</td>\n",
       "      <td>0.000000</td>\n",
       "      <td>7</td>\n",
       "      <td>0.160</td>\n",
       "      <td>-12.441</td>\n",
       "      <td>1</td>\n",
       "      <td>Clancy Lowered the Boom</td>\n",
       "      <td>5</td>\n",
       "      <td>1921</td>\n",
       "      <td>0.4150</td>\n",
       "      <td>60.936</td>\n",
       "      <td>[]</td>\n",
       "    </tr>\n",
       "    <tr>\n",
       "      <th>2</th>\n",
       "      <td>0.0394</td>\n",
       "      <td>1921</td>\n",
       "      <td>0.961</td>\n",
       "      <td>[KHP Kridhamardawa Karaton Ngayogyakarta Hadin...</td>\n",
       "      <td>0.328</td>\n",
       "      <td>500062</td>\n",
       "      <td>0.166</td>\n",
       "      <td>0</td>\n",
       "      <td>1o6I8BglA6ylDMrIELygv1</td>\n",
       "      <td>0.913000</td>\n",
       "      <td>3</td>\n",
       "      <td>0.101</td>\n",
       "      <td>-14.850</td>\n",
       "      <td>1</td>\n",
       "      <td>Gati Bali</td>\n",
       "      <td>5</td>\n",
       "      <td>1921</td>\n",
       "      <td>0.0339</td>\n",
       "      <td>110.339</td>\n",
       "      <td>[]</td>\n",
       "    </tr>\n",
       "    <tr>\n",
       "      <th>3</th>\n",
       "      <td>0.1650</td>\n",
       "      <td>1921</td>\n",
       "      <td>0.967</td>\n",
       "      <td>[Frank Parker]</td>\n",
       "      <td>0.275</td>\n",
       "      <td>210000</td>\n",
       "      <td>0.309</td>\n",
       "      <td>0</td>\n",
       "      <td>3ftBPsC5vPBKxYSee08FDH</td>\n",
       "      <td>0.000028</td>\n",
       "      <td>5</td>\n",
       "      <td>0.381</td>\n",
       "      <td>-9.316</td>\n",
       "      <td>1</td>\n",
       "      <td>Danny Boy</td>\n",
       "      <td>3</td>\n",
       "      <td>1921</td>\n",
       "      <td>0.0354</td>\n",
       "      <td>100.109</td>\n",
       "      <td>[]</td>\n",
       "    </tr>\n",
       "    <tr>\n",
       "      <th>4</th>\n",
       "      <td>0.2530</td>\n",
       "      <td>1921</td>\n",
       "      <td>0.957</td>\n",
       "      <td>[Phil Regan]</td>\n",
       "      <td>0.418</td>\n",
       "      <td>166693</td>\n",
       "      <td>0.193</td>\n",
       "      <td>0</td>\n",
       "      <td>4d6HGyGT8e121BsdKmw9v6</td>\n",
       "      <td>0.000002</td>\n",
       "      <td>3</td>\n",
       "      <td>0.229</td>\n",
       "      <td>-10.096</td>\n",
       "      <td>1</td>\n",
       "      <td>When Irish Eyes Are Smiling</td>\n",
       "      <td>2</td>\n",
       "      <td>1921</td>\n",
       "      <td>0.0380</td>\n",
       "      <td>101.665</td>\n",
       "      <td>[]</td>\n",
       "    </tr>\n",
       "  </tbody>\n",
       "</table>\n",
       "</div>"
      ],
      "text/plain": [
       "   valence  year  acousticness  \\\n",
       "0   0.0594  1921         0.982   \n",
       "1   0.9630  1921         0.732   \n",
       "2   0.0394  1921         0.961   \n",
       "3   0.1650  1921         0.967   \n",
       "4   0.2530  1921         0.957   \n",
       "\n",
       "                                             artists  danceability  \\\n",
       "0  [Sergei Rachmaninoff, James Levine, Berliner P...         0.279   \n",
       "1                                       [Dennis Day]         0.819   \n",
       "2  [KHP Kridhamardawa Karaton Ngayogyakarta Hadin...         0.328   \n",
       "3                                     [Frank Parker]         0.275   \n",
       "4                                       [Phil Regan]         0.418   \n",
       "\n",
       "   duration_ms  energy  explicit                      id  instrumentalness  \\\n",
       "0       831667   0.211         0  4BJqT0PrAfrxzMOxytFOIz          0.878000   \n",
       "1       180533   0.341         0  7xPhfUan2yNtyFG0cUWkt8          0.000000   \n",
       "2       500062   0.166         0  1o6I8BglA6ylDMrIELygv1          0.913000   \n",
       "3       210000   0.309         0  3ftBPsC5vPBKxYSee08FDH          0.000028   \n",
       "4       166693   0.193         0  4d6HGyGT8e121BsdKmw9v6          0.000002   \n",
       "\n",
       "   key  liveness  loudness  mode  \\\n",
       "0   10     0.665   -20.096     1   \n",
       "1    7     0.160   -12.441     1   \n",
       "2    3     0.101   -14.850     1   \n",
       "3    5     0.381    -9.316     1   \n",
       "4    3     0.229   -10.096     1   \n",
       "\n",
       "                                                name  popularity release_date  \\\n",
       "0  Piano Concerto No. 3 in D Minor, Op. 30: III. ...           4         1921   \n",
       "1                            Clancy Lowered the Boom           5         1921   \n",
       "2                                          Gati Bali           5         1921   \n",
       "3                                          Danny Boy           3         1921   \n",
       "4                        When Irish Eyes Are Smiling           2         1921   \n",
       "\n",
       "   speechiness    tempo                                             genres  \n",
       "0       0.0366   80.954  [classical, ukrainian_classical, orchestral_pe...  \n",
       "1       0.4150   60.936                                                 []  \n",
       "2       0.0339  110.339                                                 []  \n",
       "3       0.0354  100.109                                                 []  \n",
       "4       0.0380  101.665                                                 []  "
      ]
     },
     "execution_count": 25,
     "metadata": {},
     "output_type": "execute_result"
    }
   ],
   "source": [
    "#Aqui una muestra del dataset con los generos de cada canción.\n",
    "data.head()"
   ]
  },
  {
   "cell_type": "markdown",
   "metadata": {},
   "source": [
    "# 3. Construcción del modelo"
   ]
  },
  {
   "cell_type": "markdown",
   "metadata": {},
   "source": [
    "## Estimar el valor de k más adecuado."
   ]
  },
  {
   "cell_type": "markdown",
   "metadata": {},
   "source": [
    "Vamos a vectorizar los generos para ver cuáles son los más comunes y estimar nuestra k."
   ]
  },
  {
   "cell_type": "code",
   "execution_count": 26,
   "metadata": {},
   "outputs": [
    {
     "data": {
      "text/html": [
       "<div>\n",
       "<style scoped>\n",
       "    .dataframe tbody tr th:only-of-type {\n",
       "        vertical-align: middle;\n",
       "    }\n",
       "\n",
       "    .dataframe tbody tr th {\n",
       "        vertical-align: top;\n",
       "    }\n",
       "\n",
       "    .dataframe thead th {\n",
       "        text-align: right;\n",
       "    }\n",
       "</style>\n",
       "<table border=\"1\" class=\"dataframe\">\n",
       "  <thead>\n",
       "    <tr style=\"text-align: right;\">\n",
       "      <th></th>\n",
       "      <th>21st_century_classical</th>\n",
       "      <th>432hz</th>\n",
       "      <th>_hip_hop</th>\n",
       "      <th>a_cappella</th>\n",
       "      <th>abstract</th>\n",
       "      <th>abstract_beats</th>\n",
       "      <th>abstract_hip_hop</th>\n",
       "      <th>accordeon</th>\n",
       "      <th>accordion</th>\n",
       "      <th>acid_house</th>\n",
       "      <th>...</th>\n",
       "      <th>yugoslav_rock</th>\n",
       "      <th>zambian_pop</th>\n",
       "      <th>zeuhl</th>\n",
       "      <th>zhongguo_feng</th>\n",
       "      <th>zimdancehall</th>\n",
       "      <th>zolo</th>\n",
       "      <th>zouglou</th>\n",
       "      <th>zouk</th>\n",
       "      <th>zurich_indie</th>\n",
       "      <th>zydeco</th>\n",
       "    </tr>\n",
       "  </thead>\n",
       "  <tbody>\n",
       "    <tr>\n",
       "      <th>0</th>\n",
       "      <td>0.0</td>\n",
       "      <td>0.0</td>\n",
       "      <td>0.0</td>\n",
       "      <td>0.0</td>\n",
       "      <td>0.0</td>\n",
       "      <td>0.0</td>\n",
       "      <td>0.0</td>\n",
       "      <td>0.0</td>\n",
       "      <td>0.0</td>\n",
       "      <td>0.0</td>\n",
       "      <td>...</td>\n",
       "      <td>0.0</td>\n",
       "      <td>0.0</td>\n",
       "      <td>0.0</td>\n",
       "      <td>0.0</td>\n",
       "      <td>0.0</td>\n",
       "      <td>0.0</td>\n",
       "      <td>0.0</td>\n",
       "      <td>0.0</td>\n",
       "      <td>0.0</td>\n",
       "      <td>0.0</td>\n",
       "    </tr>\n",
       "    <tr>\n",
       "      <th>1</th>\n",
       "      <td>0.0</td>\n",
       "      <td>0.0</td>\n",
       "      <td>0.0</td>\n",
       "      <td>0.0</td>\n",
       "      <td>0.0</td>\n",
       "      <td>0.0</td>\n",
       "      <td>0.0</td>\n",
       "      <td>0.0</td>\n",
       "      <td>0.0</td>\n",
       "      <td>0.0</td>\n",
       "      <td>...</td>\n",
       "      <td>0.0</td>\n",
       "      <td>0.0</td>\n",
       "      <td>0.0</td>\n",
       "      <td>0.0</td>\n",
       "      <td>0.0</td>\n",
       "      <td>0.0</td>\n",
       "      <td>0.0</td>\n",
       "      <td>0.0</td>\n",
       "      <td>0.0</td>\n",
       "      <td>0.0</td>\n",
       "    </tr>\n",
       "    <tr>\n",
       "      <th>2</th>\n",
       "      <td>0.0</td>\n",
       "      <td>0.0</td>\n",
       "      <td>0.0</td>\n",
       "      <td>0.0</td>\n",
       "      <td>0.0</td>\n",
       "      <td>0.0</td>\n",
       "      <td>0.0</td>\n",
       "      <td>0.0</td>\n",
       "      <td>0.0</td>\n",
       "      <td>0.0</td>\n",
       "      <td>...</td>\n",
       "      <td>0.0</td>\n",
       "      <td>0.0</td>\n",
       "      <td>0.0</td>\n",
       "      <td>0.0</td>\n",
       "      <td>0.0</td>\n",
       "      <td>0.0</td>\n",
       "      <td>0.0</td>\n",
       "      <td>0.0</td>\n",
       "      <td>0.0</td>\n",
       "      <td>0.0</td>\n",
       "    </tr>\n",
       "    <tr>\n",
       "      <th>3</th>\n",
       "      <td>0.0</td>\n",
       "      <td>0.0</td>\n",
       "      <td>0.0</td>\n",
       "      <td>0.0</td>\n",
       "      <td>0.0</td>\n",
       "      <td>0.0</td>\n",
       "      <td>0.0</td>\n",
       "      <td>0.0</td>\n",
       "      <td>0.0</td>\n",
       "      <td>0.0</td>\n",
       "      <td>...</td>\n",
       "      <td>0.0</td>\n",
       "      <td>0.0</td>\n",
       "      <td>0.0</td>\n",
       "      <td>0.0</td>\n",
       "      <td>0.0</td>\n",
       "      <td>0.0</td>\n",
       "      <td>0.0</td>\n",
       "      <td>0.0</td>\n",
       "      <td>0.0</td>\n",
       "      <td>0.0</td>\n",
       "    </tr>\n",
       "    <tr>\n",
       "      <th>4</th>\n",
       "      <td>0.0</td>\n",
       "      <td>0.0</td>\n",
       "      <td>0.0</td>\n",
       "      <td>0.0</td>\n",
       "      <td>0.0</td>\n",
       "      <td>0.0</td>\n",
       "      <td>0.0</td>\n",
       "      <td>0.0</td>\n",
       "      <td>0.0</td>\n",
       "      <td>0.0</td>\n",
       "      <td>...</td>\n",
       "      <td>0.0</td>\n",
       "      <td>0.0</td>\n",
       "      <td>0.0</td>\n",
       "      <td>0.0</td>\n",
       "      <td>0.0</td>\n",
       "      <td>0.0</td>\n",
       "      <td>0.0</td>\n",
       "      <td>0.0</td>\n",
       "      <td>0.0</td>\n",
       "      <td>0.0</td>\n",
       "    </tr>\n",
       "    <tr>\n",
       "      <th>...</th>\n",
       "      <td>...</td>\n",
       "      <td>...</td>\n",
       "      <td>...</td>\n",
       "      <td>...</td>\n",
       "      <td>...</td>\n",
       "      <td>...</td>\n",
       "      <td>...</td>\n",
       "      <td>...</td>\n",
       "      <td>...</td>\n",
       "      <td>...</td>\n",
       "      <td>...</td>\n",
       "      <td>...</td>\n",
       "      <td>...</td>\n",
       "      <td>...</td>\n",
       "      <td>...</td>\n",
       "      <td>...</td>\n",
       "      <td>...</td>\n",
       "      <td>...</td>\n",
       "      <td>...</td>\n",
       "      <td>...</td>\n",
       "      <td>...</td>\n",
       "    </tr>\n",
       "    <tr>\n",
       "      <th>170648</th>\n",
       "      <td>0.0</td>\n",
       "      <td>0.0</td>\n",
       "      <td>0.0</td>\n",
       "      <td>0.0</td>\n",
       "      <td>0.0</td>\n",
       "      <td>0.0</td>\n",
       "      <td>0.0</td>\n",
       "      <td>0.0</td>\n",
       "      <td>0.0</td>\n",
       "      <td>0.0</td>\n",
       "      <td>...</td>\n",
       "      <td>0.0</td>\n",
       "      <td>0.0</td>\n",
       "      <td>0.0</td>\n",
       "      <td>0.0</td>\n",
       "      <td>0.0</td>\n",
       "      <td>0.0</td>\n",
       "      <td>0.0</td>\n",
       "      <td>0.0</td>\n",
       "      <td>0.0</td>\n",
       "      <td>0.0</td>\n",
       "    </tr>\n",
       "    <tr>\n",
       "      <th>170649</th>\n",
       "      <td>0.0</td>\n",
       "      <td>0.0</td>\n",
       "      <td>0.0</td>\n",
       "      <td>0.0</td>\n",
       "      <td>0.0</td>\n",
       "      <td>0.0</td>\n",
       "      <td>0.0</td>\n",
       "      <td>0.0</td>\n",
       "      <td>0.0</td>\n",
       "      <td>0.0</td>\n",
       "      <td>...</td>\n",
       "      <td>0.0</td>\n",
       "      <td>0.0</td>\n",
       "      <td>0.0</td>\n",
       "      <td>0.0</td>\n",
       "      <td>0.0</td>\n",
       "      <td>0.0</td>\n",
       "      <td>0.0</td>\n",
       "      <td>0.0</td>\n",
       "      <td>0.0</td>\n",
       "      <td>0.0</td>\n",
       "    </tr>\n",
       "    <tr>\n",
       "      <th>170650</th>\n",
       "      <td>0.0</td>\n",
       "      <td>0.0</td>\n",
       "      <td>0.0</td>\n",
       "      <td>0.0</td>\n",
       "      <td>0.0</td>\n",
       "      <td>0.0</td>\n",
       "      <td>0.0</td>\n",
       "      <td>0.0</td>\n",
       "      <td>0.0</td>\n",
       "      <td>0.0</td>\n",
       "      <td>...</td>\n",
       "      <td>0.0</td>\n",
       "      <td>0.0</td>\n",
       "      <td>0.0</td>\n",
       "      <td>0.0</td>\n",
       "      <td>0.0</td>\n",
       "      <td>0.0</td>\n",
       "      <td>0.0</td>\n",
       "      <td>0.0</td>\n",
       "      <td>0.0</td>\n",
       "      <td>0.0</td>\n",
       "    </tr>\n",
       "    <tr>\n",
       "      <th>170651</th>\n",
       "      <td>0.0</td>\n",
       "      <td>0.0</td>\n",
       "      <td>0.0</td>\n",
       "      <td>0.0</td>\n",
       "      <td>0.0</td>\n",
       "      <td>0.0</td>\n",
       "      <td>0.0</td>\n",
       "      <td>0.0</td>\n",
       "      <td>0.0</td>\n",
       "      <td>0.0</td>\n",
       "      <td>...</td>\n",
       "      <td>0.0</td>\n",
       "      <td>0.0</td>\n",
       "      <td>0.0</td>\n",
       "      <td>0.0</td>\n",
       "      <td>0.0</td>\n",
       "      <td>0.0</td>\n",
       "      <td>0.0</td>\n",
       "      <td>0.0</td>\n",
       "      <td>0.0</td>\n",
       "      <td>0.0</td>\n",
       "    </tr>\n",
       "    <tr>\n",
       "      <th>170652</th>\n",
       "      <td>0.0</td>\n",
       "      <td>0.0</td>\n",
       "      <td>0.0</td>\n",
       "      <td>0.0</td>\n",
       "      <td>0.0</td>\n",
       "      <td>0.0</td>\n",
       "      <td>0.0</td>\n",
       "      <td>0.0</td>\n",
       "      <td>0.0</td>\n",
       "      <td>0.0</td>\n",
       "      <td>...</td>\n",
       "      <td>0.0</td>\n",
       "      <td>0.0</td>\n",
       "      <td>0.0</td>\n",
       "      <td>0.0</td>\n",
       "      <td>0.0</td>\n",
       "      <td>0.0</td>\n",
       "      <td>0.0</td>\n",
       "      <td>0.0</td>\n",
       "      <td>0.0</td>\n",
       "      <td>0.0</td>\n",
       "    </tr>\n",
       "  </tbody>\n",
       "</table>\n",
       "<p>170653 rows × 2952 columns</p>\n",
       "</div>"
      ],
      "text/plain": [
       "        21st_century_classical  432hz  _hip_hop  a_cappella  abstract  \\\n",
       "0                          0.0    0.0       0.0         0.0       0.0   \n",
       "1                          0.0    0.0       0.0         0.0       0.0   \n",
       "2                          0.0    0.0       0.0         0.0       0.0   \n",
       "3                          0.0    0.0       0.0         0.0       0.0   \n",
       "4                          0.0    0.0       0.0         0.0       0.0   \n",
       "...                        ...    ...       ...         ...       ...   \n",
       "170648                     0.0    0.0       0.0         0.0       0.0   \n",
       "170649                     0.0    0.0       0.0         0.0       0.0   \n",
       "170650                     0.0    0.0       0.0         0.0       0.0   \n",
       "170651                     0.0    0.0       0.0         0.0       0.0   \n",
       "170652                     0.0    0.0       0.0         0.0       0.0   \n",
       "\n",
       "        abstract_beats  abstract_hip_hop  accordeon  accordion  acid_house  \\\n",
       "0                  0.0               0.0        0.0        0.0         0.0   \n",
       "1                  0.0               0.0        0.0        0.0         0.0   \n",
       "2                  0.0               0.0        0.0        0.0         0.0   \n",
       "3                  0.0               0.0        0.0        0.0         0.0   \n",
       "4                  0.0               0.0        0.0        0.0         0.0   \n",
       "...                ...               ...        ...        ...         ...   \n",
       "170648             0.0               0.0        0.0        0.0         0.0   \n",
       "170649             0.0               0.0        0.0        0.0         0.0   \n",
       "170650             0.0               0.0        0.0        0.0         0.0   \n",
       "170651             0.0               0.0        0.0        0.0         0.0   \n",
       "170652             0.0               0.0        0.0        0.0         0.0   \n",
       "\n",
       "        ...  yugoslav_rock  zambian_pop  zeuhl  zhongguo_feng  zimdancehall  \\\n",
       "0       ...            0.0          0.0    0.0            0.0           0.0   \n",
       "1       ...            0.0          0.0    0.0            0.0           0.0   \n",
       "2       ...            0.0          0.0    0.0            0.0           0.0   \n",
       "3       ...            0.0          0.0    0.0            0.0           0.0   \n",
       "4       ...            0.0          0.0    0.0            0.0           0.0   \n",
       "...     ...            ...          ...    ...            ...           ...   \n",
       "170648  ...            0.0          0.0    0.0            0.0           0.0   \n",
       "170649  ...            0.0          0.0    0.0            0.0           0.0   \n",
       "170650  ...            0.0          0.0    0.0            0.0           0.0   \n",
       "170651  ...            0.0          0.0    0.0            0.0           0.0   \n",
       "170652  ...            0.0          0.0    0.0            0.0           0.0   \n",
       "\n",
       "        zolo  zouglou  zouk  zurich_indie  zydeco  \n",
       "0        0.0      0.0   0.0           0.0     0.0  \n",
       "1        0.0      0.0   0.0           0.0     0.0  \n",
       "2        0.0      0.0   0.0           0.0     0.0  \n",
       "3        0.0      0.0   0.0           0.0     0.0  \n",
       "4        0.0      0.0   0.0           0.0     0.0  \n",
       "...      ...      ...   ...           ...     ...  \n",
       "170648   0.0      0.0   0.0           0.0     0.0  \n",
       "170649   0.0      0.0   0.0           0.0     0.0  \n",
       "170650   0.0      0.0   0.0           0.0     0.0  \n",
       "170651   0.0      0.0   0.0           0.0     0.0  \n",
       "170652   0.0      0.0   0.0           0.0     0.0  \n",
       "\n",
       "[170653 rows x 2952 columns]"
      ]
     },
     "execution_count": 26,
     "metadata": {},
     "output_type": "execute_result"
    }
   ],
   "source": [
    "tfidf = TfidfVectorizer()                                                                   #Se inicializa el vectorizador.\n",
    "tfidf_matrix =  tfidf.fit_transform(data['genres'].apply(lambda x: \" \".join(x).strip()))    #Se ajusta el vectorizador con los géneros de cada canción.\n",
    "genre_df = pd.DataFrame(tfidf_matrix.toarray())                                             #Se genera un dataframe con el resultado.\n",
    "genre_df.columns = [i for i in tfidf.get_feature_names()]                                   #Se nombran las columnas del dataset.\n",
    "genre_df.reset_index(drop = True, inplace=True)                                             #Se reinicia el index del dataset.\n",
    "genre_df                                                                                    "
   ]
  },
  {
   "cell_type": "code",
   "execution_count": 27,
   "metadata": {},
   "outputs": [
    {
     "data": {
      "text/plain": [
       "70.07401936464258"
      ]
     },
     "execution_count": 27,
     "metadata": {},
     "output_type": "execute_result"
    }
   ],
   "source": [
    "#Usando el método de prueba y error encontramos que son 201 los generos que consolidan el 70% de nuestras canciones.\n",
    "(genre_df.sum().sort_values(ascending=False)[0:201].sum() / genre_df.sum().sum()) * 100"
   ]
  },
  {
   "cell_type": "code",
   "execution_count": 28,
   "metadata": {},
   "outputs": [],
   "source": [
    "#Nos quedamos sólo con los 201 generos más comunes.\n",
    "genre_df = genre_df[genre_df.sum().sort_values(ascending=False)[0:201].index]"
   ]
  },
  {
   "cell_type": "code",
   "execution_count": 29,
   "metadata": {},
   "outputs": [],
   "source": [
    "#Añadimos al dataset principal las columnas que contienen los 201 generos vectorizados.\n",
    "data = pd.concat([data, genre_df], axis=1)"
   ]
  },
  {
   "cell_type": "markdown",
   "metadata": {},
   "source": [
    "#### Se van a particionar los datos en un conjunto de entrenamiento y uno de prueba. El de entrenamiento se va a utilizar para construir el modelo de Kmeans y hacer agrupamiento (clustering) y el de prueba para probar a qué grupo o categoría asocia estas nuevas observaciones."
   ]
  },
  {
   "cell_type": "code",
   "execution_count": 30,
   "metadata": {},
   "outputs": [],
   "source": [
    "#En este primer ejemplo vamos a utilizar todas las variables:\n",
    "nombre_de_las_variables_de_entrada = ['valence','year','acousticness','danceability','duration_ms','energy','explicit',\n",
    "                                      'instrumentalness','key','liveness','loudness','mode','popularity','speechiness','tempo']\n",
    "\n",
    "nombre_de_las_variables_de_entrada.extend(list(genre_df.columns))\n",
    "\n",
    "#Ahora, obtenemos un dataframe con las variables de entrada que vamos a utilizar.\n",
    "df_x = deepcopy(data[nombre_de_las_variables_de_entrada])"
   ]
  },
  {
   "cell_type": "code",
   "execution_count": 31,
   "metadata": {},
   "outputs": [
    {
     "name": "stdout",
     "output_type": "stream",
     "text": [
      "-----------------------------------------------------------------------\n",
      "Datos de entrada del conjunto de entrenamiento ANTES del escalado\n",
      "-----------------------------------------------------------------------\n",
      "             valence           year   acousticness   danceability\n",
      "count  170653.000000  170653.000000  170653.000000  170653.000000\n",
      "mean        0.528587    1976.787241       0.502115       0.537396\n",
      "std         0.263171      25.917853       0.376032       0.176138\n",
      "min         0.000000    1921.000000       0.000000       0.000000\n",
      "25%         0.317000    1956.000000       0.102000       0.415000\n",
      "50%         0.540000    1977.000000       0.516000       0.548000\n",
      "75%         0.747000    1999.000000       0.893000       0.668000\n",
      "max         1.000000    2020.000000       0.996000       0.988000 \n",
      "\n",
      "-----------------------------------------------------------------------\n",
      "Datos de entrada del conjunto de entrenamiento DESPUÉS del escalado\n",
      "-----------------------------------------------------------------------\n",
      "             valence           year   acousticness   danceability\n",
      "count  170653.000000  170653.000000  170653.000000  170653.000000\n",
      "mean        0.528587       0.563507       0.504131       0.543923\n",
      "std         0.263171       0.261796       0.377542       0.178277\n",
      "min         0.000000       0.000000       0.000000       0.000000\n",
      "25%         0.317000       0.353535       0.102410       0.420040\n",
      "50%         0.540000       0.565657       0.518072       0.554656\n",
      "75%         0.747000       0.787879       0.896586       0.676113\n",
      "max         1.000000       1.000000       1.000000       1.000000\n"
     ]
    }
   ],
   "source": [
    "rango_de_salida_de_las_variables_escaladas = (0,1)  #Tupla con el siguiente formato: (mínimo deseado, máximo deseado).\n",
    "scaler = MinMaxScaler()  #Instanciamos el objeto para escalar los datos. \n",
    "\n",
    "df_x_norm = deepcopy(df_x)  #Inicializamos este objeto con una copia profunda del las columnas de entrada de interés del dataframe.\n",
    "df_x_norm[nombre_de_las_variables_de_entrada] = scaler.fit_transform(df_x) #Ajustamos y transformamos los datos.\n",
    "\n",
    "print('-----------------------------------------------------------------------')\n",
    "print('Datos de entrada del conjunto de entrenamiento ANTES del escalado')\n",
    "print('-----------------------------------------------------------------------')\n",
    "print(df_x[nombre_de_las_variables_de_entrada[:4]].describe(),'\\n')\n",
    "\n",
    "print('-----------------------------------------------------------------------')\n",
    "print('Datos de entrada del conjunto de entrenamiento DESPUÉS del escalado')\n",
    "print('-----------------------------------------------------------------------')\n",
    "print(df_x_norm[nombre_de_las_variables_de_entrada[:4]].describe())"
   ]
  },
  {
   "cell_type": "markdown",
   "metadata": {},
   "source": [
    "### Se entrena el modelo definitivo."
   ]
  },
  {
   "cell_type": "code",
   "execution_count": 32,
   "metadata": {},
   "outputs": [
    {
     "name": "stdout",
     "output_type": "stream",
     "text": [
      "Centroides: [[ 4.69145934e-01  8.69130869e-01  4.59880746e-02 ...  8.67361738e-19\n",
      "   1.30104261e-18  1.73472348e-18]\n",
      " [ 3.08523376e-01  2.52913200e-01  9.33709708e-01 ... -2.60208521e-18\n",
      "   1.08420217e-17  8.04044027e-03]\n",
      " [ 6.73816122e-01  5.89104119e-01  1.60510120e-01 ...  7.37257477e-18\n",
      "   8.67361738e-19 -2.60208521e-18]\n",
      " ...\n",
      " [ 2.12872524e-01  2.73275890e-01  9.45096681e-01 ...  8.67361738e-19\n",
      "   1.30104261e-18  8.67361738e-19]\n",
      " [ 8.47696145e-01  5.29718958e-01  6.12990966e-01 ...  1.30104261e-18\n",
      "   4.33680869e-19  2.16840434e-18]\n",
      " [ 4.33989831e-01  8.24529519e-01  4.82120237e-02 ...  5.63785130e-18\n",
      "  -4.33680869e-19 -4.33680869e-19]]\n"
     ]
    }
   ],
   "source": [
    "#-------------------------------------------------------------------------------\n",
    "#-------------------------------------------------------------------------------\n",
    "# HYPERPARÁMETROS DEL MODELO\n",
    "#-------------------------------------------------------------------------------\n",
    "#-------------------------------------------------------------------------------\n",
    "\n",
    "init              ='k-means++'  #Se define el método de inicialización. Otra opción válida es 'random'.\n",
    "n_init            = 10          #Número de inicializaciones aleatorias. Al final scikit learn escoge aquel con la menor inercia \n",
    "                                #(i.e.: suma de cuadrados de distancias de cada punto a su centroide respectivo dentro de cada grupo, para todos los puntos). \n",
    "                                #https://scikit-learn.org/stable/modules/clustering.html\n",
    "max_iter          = 300         #Número MÁXIMO de iteraciones para una sola ejecución.\n",
    "random_seed       = 42          #Semilla aleatoria. Permite obtener los mismos resultados en cada ejecución.\n",
    "\n",
    "#-------------------------------------------------------------------------------\n",
    "#K-means\n",
    "#-------------------------------------------------------------------------------\n",
    "k = 201  #Número de grupos que se escogió después del análisis previo.\n",
    "\n",
    "#Ahora se instancia el objeto para utilizar el agrupamiento con k-means.\n",
    "#Para ver todas los opciones del constructor, consulte: https://scikit-learn.org/stable/modules/generated/sklearn.cluster.KMeans.html\n",
    "#Nota: el algoritmo de k-means disponible en scikit-learn funciona únicamente con la distancia euclidiana.\n",
    "#Si requiere aplicar k-means con otras métricas de distancia, puede consultar la librería PyClustering: https://github.com/annoviko/pyclustering\n",
    "kmeans = KMeans(n_clusters   = k,            #Se define el número de grupos.\n",
    "                init         = init,         #Se define el método de inicialización. Otra opción es 'random'\n",
    "                n_init       = n_init,       #Número de inicializaciones aleatorias. \n",
    "                max_iter     = max_iter,     #Número MÁXIMO de iteraciones para una sola ejecución.\n",
    "                random_state = random_seed)\n",
    "\n",
    "#Hagamos el ajuste (i.e.: encontremos los centroides).\n",
    "kmeans.fit(df_x_norm)\n",
    "\n",
    "#Se añade la columna cluster a los datos para posteriores agrupamientos.\n",
    "data['cluster'] = kmeans.predict(df_x_norm)\n",
    "\n",
    "#Revisemos los centroides de cada grupo.\n",
    "centroides = kmeans.cluster_centers_\n",
    "print('Centroides:', centroides)"
   ]
  },
  {
   "cell_type": "markdown",
   "metadata": {},
   "source": [
    "# 4. Sistema de recomendación de música"
   ]
  },
  {
   "cell_type": "markdown",
   "metadata": {},
   "source": [
    "Función para obtener los datos de una canción."
   ]
  },
  {
   "cell_type": "code",
   "execution_count": 33,
   "metadata": {},
   "outputs": [],
   "source": [
    "def get_song_data(song, data):\n",
    "    try:\n",
    "        #Se obtiene los datos de una canción con base en su nombre y año.\n",
    "        song_data = data[(data['name'] == song['name']) & (data['year'] == song['year'])].iloc[0]   \n",
    "        return song_data\n",
    "    \n",
    "    except IndexError:\n",
    "        return"
   ]
  },
  {
   "cell_type": "markdown",
   "metadata": {},
   "source": [
    "Función para obtener el vector media de una lista de canciones."
   ]
  },
  {
   "cell_type": "code",
   "execution_count": 34,
   "metadata": {},
   "outputs": [],
   "source": [
    "def get_mean_vector(song_list, data):\n",
    "    \n",
    "    song_vectors = []                                                               #Se inicializa el vector media.\n",
    "    \n",
    "    for song in song_list:\n",
    "        song_data = get_song_data(song, data)                                       #Se obtiene el vector (datos) de cada canción.\n",
    "        \n",
    "        if song_data is None:                                                       #En caso de que una canción no se encuente en el dataset principal\n",
    "            print('Warning: {} does not exist in database'.format(song['name']))    #se lanza una advertencia pero no se detiene el proceso\n",
    "            continue                                                                #simplemente no se tiene en cuenta.\n",
    "        \n",
    "        song_vector = song_data[nombre_de_las_variables_de_entrada].values          #Se crea una copia del vector de datos de las canciones\n",
    "        song_vectors.append(song_vector)                                            #sólo con las columnas que nos interesan.\n",
    "    \n",
    "    song_matrix = np.array(list(song_vectors))                                      #Se crea una matriz a partir de la información anterior.\n",
    "    \n",
    "    return np.mean(song_matrix, axis=0)                                             #Se obtiene el vector media de la matriz."
   ]
  },
  {
   "cell_type": "markdown",
   "metadata": {},
   "source": [
    "Función para crear un diccionario."
   ]
  },
  {
   "cell_type": "code",
   "execution_count": 35,
   "metadata": {},
   "outputs": [],
   "source": [
    "def flatten_dict_list(dict_list):\n",
    "    flattened_dict = defaultdict()                  #Se inicializa el diccionario.\n",
    "    \n",
    "    for key in dict_list[0].keys():                 \n",
    "        flattened_dict[key] = []                    #Se añaden las claves del diccionario.\n",
    "    \n",
    "    for dictionary in dict_list:                    \n",
    "        for key, value in dictionary.items():\n",
    "            flattened_dict[key].append(value)       #Se añaden los valores del diccionario.\n",
    "            \n",
    "    return flattened_dict                           "
   ]
  },
  {
   "cell_type": "markdown",
   "metadata": {},
   "source": [
    "Función para recomendar canciones."
   ]
  },
  {
   "cell_type": "code",
   "execution_count": 36,
   "metadata": {},
   "outputs": [],
   "source": [
    "def recommend_songs(song_list, data, n_songs=10):   #Se recomiendan 10 canciones a partir de una lista de canciones de entrada y el dataset principal.\n",
    "    \n",
    "    metadata_cols = ['name', 'artists', 'genres', 'year']       #Información que se retornará de cada canción recomendada.  \n",
    "    song_dict = flatten_dict_list(song_list)                    #Se crea un diccionario con la lista de canciones de entrada.\n",
    "    \n",
    "    song_center = get_mean_vector(song_list, data)              #Se obtiene el vector media de la lista de canciones de entrada.\n",
    "\n",
    "    scaled_song_center = scaler.transform(song_center.reshape(1, -1))   #Se normaliza el vector media de la lista de canciones de entrada.\n",
    "\n",
    "    cluster = kmeans.predict(scaled_song_center)    #Se predice el cluster al que pertenece el vector media de la lista de canciones de entrada.\n",
    "\n",
    "    #Se normalizan los datos de las canciones que pertenecen al mismo cluster.\n",
    "    scaled_data = scaler.transform(data[data.cluster == cluster[0]][nombre_de_las_variables_de_entrada])    \n",
    "    \n",
    "    distances = cdist(scaled_song_center, scaled_data, 'cosine')    #Se encuentra la distancia coseno se cada canción en el cluster con el vector media.\n",
    "    \n",
    "    index = list(np.argsort(distances)[:, :n_songs][0])     #Se eligen los 10 indices con menor distancia coseno.\n",
    "\n",
    "    rec_songs = data[data.cluster == cluster[0]].reset_index().iloc[index]   #Se encuentra toda la información de las 10 cacniones a partir de su indice.\n",
    "    rec_songs = rec_songs[~rec_songs['name'].isin(song_dict['name'])]   #En caso de que una canción recomendada sea igual a una canción de entrada está recomendación se omite.\n",
    "    return rec_songs[metadata_cols].to_dict(orient='records')   #Se crea un diccionario con la información que se desea de cada canción recomendada."
   ]
  },
  {
   "cell_type": "markdown",
   "metadata": {},
   "source": [
    "# 5. Prueba de recomendación"
   ]
  },
  {
   "cell_type": "code",
   "execution_count": 37,
   "metadata": {},
   "outputs": [
    {
     "data": {
      "text/html": [
       "<div>\n",
       "<style scoped>\n",
       "    .dataframe tbody tr th:only-of-type {\n",
       "        vertical-align: middle;\n",
       "    }\n",
       "\n",
       "    .dataframe tbody tr th {\n",
       "        vertical-align: top;\n",
       "    }\n",
       "\n",
       "    .dataframe thead th {\n",
       "        text-align: right;\n",
       "    }\n",
       "</style>\n",
       "<table border=\"1\" class=\"dataframe\">\n",
       "  <thead>\n",
       "    <tr style=\"text-align: right;\">\n",
       "      <th></th>\n",
       "      <th>name</th>\n",
       "      <th>artists</th>\n",
       "      <th>genres</th>\n",
       "      <th>year</th>\n",
       "    </tr>\n",
       "  </thead>\n",
       "  <tbody>\n",
       "    <tr>\n",
       "      <th>0</th>\n",
       "      <td>Dembow 2020</td>\n",
       "      <td>[Yandel, Rauw Alejandro]</td>\n",
       "      <td>[latin_hip_hop, tropical, latin, trap_latino, ...</td>\n",
       "      <td>2020</td>\n",
       "    </tr>\n",
       "    <tr>\n",
       "      <th>1</th>\n",
       "      <td>Sigues Con El</td>\n",
       "      <td>[Dímelo Flow, Arcangel, Sech]</td>\n",
       "      <td>[latin_hip_hop, tropical, reggaeton_flow, lati...</td>\n",
       "      <td>2019</td>\n",
       "    </tr>\n",
       "    <tr>\n",
       "      <th>2</th>\n",
       "      <td>Guaya Guaya</td>\n",
       "      <td>[Don Omar]</td>\n",
       "      <td>[latin_hip_hop, tropical, latin, trap_latino, ...</td>\n",
       "      <td>2015</td>\n",
       "    </tr>\n",
       "    <tr>\n",
       "      <th>3</th>\n",
       "      <td>Pasarela</td>\n",
       "      <td>[Ñejo &amp; Dalmata]</td>\n",
       "      <td>[latin_hip_hop, tropical, reggaeton_flow, lati...</td>\n",
       "      <td>2007</td>\n",
       "    </tr>\n",
       "    <tr>\n",
       "      <th>4</th>\n",
       "      <td>No Es Justo</td>\n",
       "      <td>[J Balvin, Zion &amp; Lennox]</td>\n",
       "      <td>[latin_hip_hop, tropical, latin, reggaeton_col...</td>\n",
       "      <td>2018</td>\n",
       "    </tr>\n",
       "    <tr>\n",
       "      <th>5</th>\n",
       "      <td>La Tóxica (feat. Jay Wheeler &amp; Tempo) - Remix</td>\n",
       "      <td>[Farruko, Sech, Myke Towers, Jay Wheeler, Tempo]</td>\n",
       "      <td>[latin_hip_hop, tropical, reggaeton_flow, lati...</td>\n",
       "      <td>2020</td>\n",
       "    </tr>\n",
       "    <tr>\n",
       "      <th>6</th>\n",
       "      <td>Agua (with J Balvin) - Music From \"Sponge On T...</td>\n",
       "      <td>[Tainy, J Balvin]</td>\n",
       "      <td>[latin_hip_hop, tropical, pop_reggaeton, latin...</td>\n",
       "      <td>2020</td>\n",
       "    </tr>\n",
       "    <tr>\n",
       "      <th>7</th>\n",
       "      <td>Que Tire Pa Lante</td>\n",
       "      <td>[Daddy Yankee]</td>\n",
       "      <td>[latin_hip_hop, tropical, latin, trap_latino, ...</td>\n",
       "      <td>2019</td>\n",
       "    </tr>\n",
       "  </tbody>\n",
       "</table>\n",
       "</div>"
      ],
      "text/plain": [
       "                                                name  \\\n",
       "0                                        Dembow 2020   \n",
       "1                                      Sigues Con El   \n",
       "2                                        Guaya Guaya   \n",
       "3                                           Pasarela   \n",
       "4                                        No Es Justo   \n",
       "5      La Tóxica (feat. Jay Wheeler & Tempo) - Remix   \n",
       "6  Agua (with J Balvin) - Music From \"Sponge On T...   \n",
       "7                                  Que Tire Pa Lante   \n",
       "\n",
       "                                            artists  \\\n",
       "0                          [Yandel, Rauw Alejandro]   \n",
       "1                     [Dímelo Flow, Arcangel, Sech]   \n",
       "2                                        [Don Omar]   \n",
       "3                                  [Ñejo & Dalmata]   \n",
       "4                         [J Balvin, Zion & Lennox]   \n",
       "5  [Farruko, Sech, Myke Towers, Jay Wheeler, Tempo]   \n",
       "6                                 [Tainy, J Balvin]   \n",
       "7                                    [Daddy Yankee]   \n",
       "\n",
       "                                              genres  year  \n",
       "0  [latin_hip_hop, tropical, latin, trap_latino, ...  2020  \n",
       "1  [latin_hip_hop, tropical, reggaeton_flow, lati...  2019  \n",
       "2  [latin_hip_hop, tropical, latin, trap_latino, ...  2015  \n",
       "3  [latin_hip_hop, tropical, reggaeton_flow, lati...  2007  \n",
       "4  [latin_hip_hop, tropical, latin, reggaeton_col...  2018  \n",
       "5  [latin_hip_hop, tropical, reggaeton_flow, lati...  2020  \n",
       "6  [latin_hip_hop, tropical, pop_reggaeton, latin...  2020  \n",
       "7  [latin_hip_hop, tropical, latin, trap_latino, ...  2019  "
      ]
     },
     "execution_count": 37,
     "metadata": {},
     "output_type": "execute_result"
    }
   ],
   "source": [
    "#Prueba con canciones de género reggaeton\n",
    "songs = recommend_songs([{'name': 'China', 'year': 2019},\n",
    "                         {'name': 'Mi Gente', 'year': 2017},\n",
    "                         {'name': 'Gasolina', 'year': 2004}],  data)\n",
    " \n",
    "pd.DataFrame(songs)"
   ]
  },
  {
   "cell_type": "code",
   "execution_count": 38,
   "metadata": {},
   "outputs": [
    {
     "data": {
      "text/html": [
       "<div>\n",
       "<style scoped>\n",
       "    .dataframe tbody tr th:only-of-type {\n",
       "        vertical-align: middle;\n",
       "    }\n",
       "\n",
       "    .dataframe tbody tr th {\n",
       "        vertical-align: top;\n",
       "    }\n",
       "\n",
       "    .dataframe thead th {\n",
       "        text-align: right;\n",
       "    }\n",
       "</style>\n",
       "<table border=\"1\" class=\"dataframe\">\n",
       "  <thead>\n",
       "    <tr style=\"text-align: right;\">\n",
       "      <th></th>\n",
       "      <th>name</th>\n",
       "      <th>artists</th>\n",
       "      <th>genres</th>\n",
       "      <th>year</th>\n",
       "    </tr>\n",
       "  </thead>\n",
       "  <tbody>\n",
       "    <tr>\n",
       "      <th>0</th>\n",
       "      <td>Trampoline (with ZAYN)</td>\n",
       "      <td>[SHAED, ZAYN]</td>\n",
       "      <td>[dance_pop, uk_pop, pop_dance, electropop, pos...</td>\n",
       "      <td>2019</td>\n",
       "    </tr>\n",
       "    <tr>\n",
       "      <th>1</th>\n",
       "      <td>Love Me Like You Do</td>\n",
       "      <td>[Ellie Goulding]</td>\n",
       "      <td>[indietronica, dance_pop, metropopolis, uk_pop...</td>\n",
       "      <td>2018</td>\n",
       "    </tr>\n",
       "    <tr>\n",
       "      <th>2</th>\n",
       "      <td>Trampoline (with ZAYN)</td>\n",
       "      <td>[SHAED, ZAYN]</td>\n",
       "      <td>[dance_pop, uk_pop, pop_dance, electropop, pos...</td>\n",
       "      <td>2019</td>\n",
       "    </tr>\n",
       "    <tr>\n",
       "      <th>3</th>\n",
       "      <td>Now Or Never</td>\n",
       "      <td>[Halsey]</td>\n",
       "      <td>[dance_pop, pop_dance, electropop, etherpop, i...</td>\n",
       "      <td>2017</td>\n",
       "    </tr>\n",
       "    <tr>\n",
       "      <th>4</th>\n",
       "      <td>Easy</td>\n",
       "      <td>[Camila Cabello]</td>\n",
       "      <td>[post-teen_pop, dance_pop, pop, pop_dance]</td>\n",
       "      <td>2019</td>\n",
       "    </tr>\n",
       "    <tr>\n",
       "      <th>5</th>\n",
       "      <td>Dear Society</td>\n",
       "      <td>[Madison Beer]</td>\n",
       "      <td>[post-teen_pop, dance_pop, pop, pop_dance]</td>\n",
       "      <td>2019</td>\n",
       "    </tr>\n",
       "    <tr>\n",
       "      <th>6</th>\n",
       "      <td>Look What You Made Me Do</td>\n",
       "      <td>[Taylor Swift]</td>\n",
       "      <td>[post-teen_pop, dance_pop, pop, pop_dance]</td>\n",
       "      <td>2017</td>\n",
       "    </tr>\n",
       "    <tr>\n",
       "      <th>7</th>\n",
       "      <td>Call You Mine</td>\n",
       "      <td>[The Chainsmokers, Bebe Rexha]</td>\n",
       "      <td>[dance_pop, edm, pop_dance, tropical_house, el...</td>\n",
       "      <td>2019</td>\n",
       "    </tr>\n",
       "    <tr>\n",
       "      <th>8</th>\n",
       "      <td>Control</td>\n",
       "      <td>[Halsey]</td>\n",
       "      <td>[dance_pop, pop_dance, electropop, etherpop, i...</td>\n",
       "      <td>2015</td>\n",
       "    </tr>\n",
       "    <tr>\n",
       "      <th>9</th>\n",
       "      <td>Love Me or Leave Me</td>\n",
       "      <td>[Little Mix]</td>\n",
       "      <td>[talent_show, dance_pop, uk_pop, pop_dance, gi...</td>\n",
       "      <td>2015</td>\n",
       "    </tr>\n",
       "  </tbody>\n",
       "</table>\n",
       "</div>"
      ],
      "text/plain": [
       "                       name                         artists  \\\n",
       "0    Trampoline (with ZAYN)                   [SHAED, ZAYN]   \n",
       "1       Love Me Like You Do                [Ellie Goulding]   \n",
       "2    Trampoline (with ZAYN)                   [SHAED, ZAYN]   \n",
       "3              Now Or Never                        [Halsey]   \n",
       "4                      Easy                [Camila Cabello]   \n",
       "5              Dear Society                  [Madison Beer]   \n",
       "6  Look What You Made Me Do                  [Taylor Swift]   \n",
       "7             Call You Mine  [The Chainsmokers, Bebe Rexha]   \n",
       "8                   Control                        [Halsey]   \n",
       "9       Love Me or Leave Me                    [Little Mix]   \n",
       "\n",
       "                                              genres  year  \n",
       "0  [dance_pop, uk_pop, pop_dance, electropop, pos...  2019  \n",
       "1  [indietronica, dance_pop, metropopolis, uk_pop...  2018  \n",
       "2  [dance_pop, uk_pop, pop_dance, electropop, pos...  2019  \n",
       "3  [dance_pop, pop_dance, electropop, etherpop, i...  2017  \n",
       "4         [post-teen_pop, dance_pop, pop, pop_dance]  2019  \n",
       "5         [post-teen_pop, dance_pop, pop, pop_dance]  2019  \n",
       "6         [post-teen_pop, dance_pop, pop, pop_dance]  2017  \n",
       "7  [dance_pop, edm, pop_dance, tropical_house, el...  2019  \n",
       "8  [dance_pop, pop_dance, electropop, etherpop, i...  2015  \n",
       "9  [talent_show, dance_pop, uk_pop, pop_dance, gi...  2015  "
      ]
     },
     "execution_count": 38,
     "metadata": {},
     "output_type": "execute_result"
    }
   ],
   "source": [
    "#Prueba con canciones de género pop\n",
    "songs = recommend_songs([{'name': '7 rings', 'year': 2019},\n",
    "                         {'name': 'New Rules', 'year': 2017},\n",
    "                         {'name': 'Lover', 'year': 2019}],  data)\n",
    "                        \n",
    "pd.DataFrame(songs)"
   ]
  },
  {
   "cell_type": "code",
   "execution_count": 39,
   "metadata": {},
   "outputs": [
    {
     "data": {
      "text/html": [
       "<div>\n",
       "<style scoped>\n",
       "    .dataframe tbody tr th:only-of-type {\n",
       "        vertical-align: middle;\n",
       "    }\n",
       "\n",
       "    .dataframe tbody tr th {\n",
       "        vertical-align: top;\n",
       "    }\n",
       "\n",
       "    .dataframe thead th {\n",
       "        text-align: right;\n",
       "    }\n",
       "</style>\n",
       "<table border=\"1\" class=\"dataframe\">\n",
       "  <thead>\n",
       "    <tr style=\"text-align: right;\">\n",
       "      <th></th>\n",
       "      <th>name</th>\n",
       "      <th>artists</th>\n",
       "      <th>genres</th>\n",
       "      <th>year</th>\n",
       "    </tr>\n",
       "  </thead>\n",
       "  <tbody>\n",
       "    <tr>\n",
       "      <th>0</th>\n",
       "      <td>Hold On</td>\n",
       "      <td>[Santana]</td>\n",
       "      <td>[rock, mexican_classic_rock, blues_rock, class...</td>\n",
       "      <td>1983</td>\n",
       "    </tr>\n",
       "    <tr>\n",
       "      <th>1</th>\n",
       "      <td>Riders on the Storm</td>\n",
       "      <td>[The Doors]</td>\n",
       "      <td>[rock, classic_rock, acid_rock, album_rock, ps...</td>\n",
       "      <td>1971</td>\n",
       "    </tr>\n",
       "    <tr>\n",
       "      <th>2</th>\n",
       "      <td>I'll Be Waiting</td>\n",
       "      <td>[Santana]</td>\n",
       "      <td>[rock, mexican_classic_rock, blues_rock, class...</td>\n",
       "      <td>1977</td>\n",
       "    </tr>\n",
       "    <tr>\n",
       "      <th>3</th>\n",
       "      <td>Help! - Remastered 2015</td>\n",
       "      <td>[The Beatles]</td>\n",
       "      <td>[rock, beatlesque, british_invasion, merseybea...</td>\n",
       "      <td>2000</td>\n",
       "    </tr>\n",
       "    <tr>\n",
       "      <th>4</th>\n",
       "      <td>Riders on the Storm - New Stereo Mix</td>\n",
       "      <td>[The Doors]</td>\n",
       "      <td>[rock, classic_rock, acid_rock, album_rock, ps...</td>\n",
       "      <td>2008</td>\n",
       "    </tr>\n",
       "    <tr>\n",
       "      <th>5</th>\n",
       "      <td>The Soft Parade</td>\n",
       "      <td>[The Doors]</td>\n",
       "      <td>[rock, classic_rock, acid_rock, album_rock, ps...</td>\n",
       "      <td>1969</td>\n",
       "    </tr>\n",
       "    <tr>\n",
       "      <th>6</th>\n",
       "      <td>Money (That's What I Want) - Remastered 2009</td>\n",
       "      <td>[The Beatles]</td>\n",
       "      <td>[rock, beatlesque, british_invasion, merseybea...</td>\n",
       "      <td>1963</td>\n",
       "    </tr>\n",
       "    <tr>\n",
       "      <th>7</th>\n",
       "      <td>Catfish Blues</td>\n",
       "      <td>[Jimi Hendrix]</td>\n",
       "      <td>[rock, classic_rock, acid_rock, psychedelic_ro...</td>\n",
       "      <td>1994</td>\n",
       "    </tr>\n",
       "    <tr>\n",
       "      <th>8</th>\n",
       "      <td>Maggie M'Gill</td>\n",
       "      <td>[The Doors]</td>\n",
       "      <td>[rock, classic_rock, acid_rock, album_rock, ps...</td>\n",
       "      <td>1970</td>\n",
       "    </tr>\n",
       "    <tr>\n",
       "      <th>9</th>\n",
       "      <td>Have You Ever Been (To Electric Ladyland)</td>\n",
       "      <td>[Jimi Hendrix]</td>\n",
       "      <td>[rock, classic_rock, acid_rock, psychedelic_ro...</td>\n",
       "      <td>1968</td>\n",
       "    </tr>\n",
       "  </tbody>\n",
       "</table>\n",
       "</div>"
      ],
      "text/plain": [
       "                                           name         artists  \\\n",
       "0                                       Hold On       [Santana]   \n",
       "1                           Riders on the Storm     [The Doors]   \n",
       "2                               I'll Be Waiting       [Santana]   \n",
       "3                       Help! - Remastered 2015   [The Beatles]   \n",
       "4          Riders on the Storm - New Stereo Mix     [The Doors]   \n",
       "5                               The Soft Parade     [The Doors]   \n",
       "6  Money (That's What I Want) - Remastered 2009   [The Beatles]   \n",
       "7                                 Catfish Blues  [Jimi Hendrix]   \n",
       "8                                 Maggie M'Gill     [The Doors]   \n",
       "9     Have You Ever Been (To Electric Ladyland)  [Jimi Hendrix]   \n",
       "\n",
       "                                              genres  year  \n",
       "0  [rock, mexican_classic_rock, blues_rock, class...  1983  \n",
       "1  [rock, classic_rock, acid_rock, album_rock, ps...  1971  \n",
       "2  [rock, mexican_classic_rock, blues_rock, class...  1977  \n",
       "3  [rock, beatlesque, british_invasion, merseybea...  2000  \n",
       "4  [rock, classic_rock, acid_rock, album_rock, ps...  2008  \n",
       "5  [rock, classic_rock, acid_rock, album_rock, ps...  1969  \n",
       "6  [rock, beatlesque, british_invasion, merseybea...  1963  \n",
       "7  [rock, classic_rock, acid_rock, psychedelic_ro...  1994  \n",
       "8  [rock, classic_rock, acid_rock, album_rock, ps...  1970  \n",
       "9  [rock, classic_rock, acid_rock, psychedelic_ro...  1968  "
      ]
     },
     "execution_count": 39,
     "metadata": {},
     "output_type": "execute_result"
    }
   ],
   "source": [
    "#Prueba con canciones de género rock\n",
    "songs = recommend_songs([{'name': 'Jailhouse Rock', 'year': 1958},\n",
    "                         {'name': 'We Will Rock You', 'year': 1977},\n",
    "                         {'name': 'Hey Jude', 'year': 2006}],  data)\n",
    "                        \n",
    "pd.DataFrame(songs)"
   ]
  },
  {
   "cell_type": "code",
   "execution_count": 40,
   "metadata": {},
   "outputs": [
    {
     "data": {
      "text/html": [
       "<div>\n",
       "<style scoped>\n",
       "    .dataframe tbody tr th:only-of-type {\n",
       "        vertical-align: middle;\n",
       "    }\n",
       "\n",
       "    .dataframe tbody tr th {\n",
       "        vertical-align: top;\n",
       "    }\n",
       "\n",
       "    .dataframe thead th {\n",
       "        text-align: right;\n",
       "    }\n",
       "</style>\n",
       "<table border=\"1\" class=\"dataframe\">\n",
       "  <thead>\n",
       "    <tr style=\"text-align: right;\">\n",
       "      <th></th>\n",
       "      <th>name</th>\n",
       "      <th>artists</th>\n",
       "      <th>genres</th>\n",
       "      <th>year</th>\n",
       "    </tr>\n",
       "  </thead>\n",
       "  <tbody>\n",
       "    <tr>\n",
       "      <th>0</th>\n",
       "      <td>Come With Me - Radio Mix</td>\n",
       "      <td>[Nora En Pure]</td>\n",
       "      <td>[deep_tropical_house, progressive_house, pop_d...</td>\n",
       "      <td>2013</td>\n",
       "    </tr>\n",
       "    <tr>\n",
       "      <th>1</th>\n",
       "      <td>Pizza Guy</td>\n",
       "      <td>[Touch Sensitive]</td>\n",
       "      <td>[australian_indie, alternative_dance, nu_disco...</td>\n",
       "      <td>2014</td>\n",
       "    </tr>\n",
       "    <tr>\n",
       "      <th>2</th>\n",
       "      <td>Future Club</td>\n",
       "      <td>[Perturbator]</td>\n",
       "      <td>[darksynth, cyberpunk, synthwave, dark_clubbing]</td>\n",
       "      <td>2014</td>\n",
       "    </tr>\n",
       "    <tr>\n",
       "      <th>3</th>\n",
       "      <td>Spaceman</td>\n",
       "      <td>[Hardwell]</td>\n",
       "      <td>[dance_pop, edm, progressive_house, pop_dance,...</td>\n",
       "      <td>2012</td>\n",
       "    </tr>\n",
       "    <tr>\n",
       "      <th>4</th>\n",
       "      <td>Red Stars</td>\n",
       "      <td>[The Birthday Massacre]</td>\n",
       "      <td>[canadian_rock, industrial_rock, slayer, gothi...</td>\n",
       "      <td>2007</td>\n",
       "    </tr>\n",
       "    <tr>\n",
       "      <th>5</th>\n",
       "      <td>We Are Mirage</td>\n",
       "      <td>[Eric Prydz, Empire of the Sun]</td>\n",
       "      <td>[dance-punk, edm, progressive_house, new_rave,...</td>\n",
       "      <td>2014</td>\n",
       "    </tr>\n",
       "    <tr>\n",
       "      <th>6</th>\n",
       "      <td>Five Hours</td>\n",
       "      <td>[Deorro]</td>\n",
       "      <td>[melbourne_bounce_international, dance_pop, ed...</td>\n",
       "      <td>2014</td>\n",
       "    </tr>\n",
       "    <tr>\n",
       "      <th>7</th>\n",
       "      <td>Dive</td>\n",
       "      <td>[Tycho]</td>\n",
       "      <td>[downtempo, chillwave, electronica, intelligen...</td>\n",
       "      <td>2011</td>\n",
       "    </tr>\n",
       "  </tbody>\n",
       "</table>\n",
       "</div>"
      ],
      "text/plain": [
       "                       name                          artists  \\\n",
       "0  Come With Me - Radio Mix                   [Nora En Pure]   \n",
       "1                 Pizza Guy                [Touch Sensitive]   \n",
       "2               Future Club                    [Perturbator]   \n",
       "3                  Spaceman                       [Hardwell]   \n",
       "4                 Red Stars          [The Birthday Massacre]   \n",
       "5             We Are Mirage  [Eric Prydz, Empire of the Sun]   \n",
       "6                Five Hours                         [Deorro]   \n",
       "7                      Dive                          [Tycho]   \n",
       "\n",
       "                                              genres  year  \n",
       "0  [deep_tropical_house, progressive_house, pop_d...  2013  \n",
       "1  [australian_indie, alternative_dance, nu_disco...  2014  \n",
       "2   [darksynth, cyberpunk, synthwave, dark_clubbing]  2014  \n",
       "3  [dance_pop, edm, progressive_house, pop_dance,...  2012  \n",
       "4  [canadian_rock, industrial_rock, slayer, gothi...  2007  \n",
       "5  [dance-punk, edm, progressive_house, new_rave,...  2014  \n",
       "6  [melbourne_bounce_international, dance_pop, ed...  2014  \n",
       "7  [downtempo, chillwave, electronica, intelligen...  2011  "
      ]
     },
     "execution_count": 40,
     "metadata": {},
     "output_type": "execute_result"
    }
   ],
   "source": [
    "#Prueba con canciones de género electrónica\n",
    "songs = recommend_songs([{'name': 'Tsunami', 'year': 2013},\n",
    "                         {'name': 'Astronomia', 'year': 2016},\n",
    "                         {'name': 'Tremor - Sensation 2014 Anthem', 'year': 2014}],  data)\n",
    "                        \n",
    "pd.DataFrame(songs)"
   ]
  }
 ],
 "metadata": {
  "kernelspec": {
   "display_name": "Python 3.10.8 64-bit (microsoft store)",
   "language": "python",
   "name": "python3"
  },
  "language_info": {
   "codemirror_mode": {
    "name": "ipython",
    "version": 3
   },
   "file_extension": ".py",
   "mimetype": "text/x-python",
   "name": "python",
   "nbconvert_exporter": "python",
   "pygments_lexer": "ipython3",
   "version": "3.10.8"
  },
  "orig_nbformat": 4,
  "vscode": {
   "interpreter": {
    "hash": "da059c13d1cb8ece5dd5dc40ad0d12ae7a0689792b14e8e6699c3e84ab85084d"
   }
  }
 },
 "nbformat": 4,
 "nbformat_minor": 2
}
